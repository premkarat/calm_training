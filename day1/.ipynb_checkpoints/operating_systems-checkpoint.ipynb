{
 "cells": [
  {
   "cell_type": "markdown",
   "id": "fd32344b",
   "metadata": {
    "toc": true
   },
   "source": [
    "<h1>Table of Contents<span class=\"tocSkip\"></span></h1>\n",
    "<div class=\"toc\"><ul class=\"toc-item\"><li><span><a href=\"#OS-Basics---Chapter-1\" data-toc-modified-id=\"OS-Basics---Chapter-1-1\"><span class=\"toc-item-num\">1&nbsp;&nbsp;</span>OS Basics - Chapter 1</a></span><ul class=\"toc-item\"><li><span><a href=\"#How-does-a-computer-boot?\" data-toc-modified-id=\"How-does-a-computer-boot?-1.1\"><span class=\"toc-item-num\">1.1&nbsp;&nbsp;</span>How does a computer boot?</a></span></li><li><span><a href=\"#Journey-from-Source-code-to-Object-code\" data-toc-modified-id=\"Journey-from-Source-code-to-Object-code-1.2\"><span class=\"toc-item-num\">1.2&nbsp;&nbsp;</span>Journey from Source code to Object code</a></span><ul class=\"toc-item\"><li><span><a href=\"#Interpreter\" data-toc-modified-id=\"Interpreter-1.2.1\"><span class=\"toc-item-num\">1.2.1&nbsp;&nbsp;</span>Interpreter</a></span><ul class=\"toc-item\"><li><span><a href=\"#Lexer\" data-toc-modified-id=\"Lexer-1.2.1.1\"><span class=\"toc-item-num\">1.2.1.1&nbsp;&nbsp;</span>Lexer</a></span></li><li><span><a href=\"#Parser\" data-toc-modified-id=\"Parser-1.2.1.2\"><span class=\"toc-item-num\">1.2.1.2&nbsp;&nbsp;</span>Parser</a></span></li><li><span><a href=\"#Compiler-(in-python-interpretor)\" data-toc-modified-id=\"Compiler-(in-python-interpretor)-1.2.1.3\"><span class=\"toc-item-num\">1.2.1.3&nbsp;&nbsp;</span>Compiler (in python interpretor)</a></span></li></ul></li><li><span><a href=\"#Compiler\" data-toc-modified-id=\"Compiler-1.2.2\"><span class=\"toc-item-num\">1.2.2&nbsp;&nbsp;</span>Compiler</a></span><ul class=\"toc-item\"><li><span><a href=\"#Preprocessor\" data-toc-modified-id=\"Preprocessor-1.2.2.1\"><span class=\"toc-item-num\">1.2.2.1&nbsp;&nbsp;</span>Preprocessor</a></span></li><li><span><a href=\"#Compiler\" data-toc-modified-id=\"Compiler-1.2.2.2\"><span class=\"toc-item-num\">1.2.2.2&nbsp;&nbsp;</span>Compiler</a></span></li><li><span><a href=\"#Assembler\" data-toc-modified-id=\"Assembler-1.2.2.3\"><span class=\"toc-item-num\">1.2.2.3&nbsp;&nbsp;</span>Assembler</a></span></li><li><span><a href=\"#Linker\" data-toc-modified-id=\"Linker-1.2.2.4\"><span class=\"toc-item-num\">1.2.2.4&nbsp;&nbsp;</span>Linker</a></span></li></ul></li><li><span><a href=\"#Language-Examples\" data-toc-modified-id=\"Language-Examples-1.2.3\"><span class=\"toc-item-num\">1.2.3&nbsp;&nbsp;</span>Language Examples</a></span></li><li><span><a href=\"#Excercises\" data-toc-modified-id=\"Excercises-1.2.4\"><span class=\"toc-item-num\">1.2.4&nbsp;&nbsp;</span>Excercises</a></span></li></ul></li></ul></li></ul></div>"
   ]
  },
  {
   "cell_type": "markdown",
   "id": "9c944250",
   "metadata": {},
   "source": [
    "# OS Basics - Chapter 1\n"
   ]
  },
  {
   "cell_type": "markdown",
   "id": "905881e8",
   "metadata": {},
   "source": [
    "**Teasers**\n",
    "\n",
    "1. How does a computer boot?\n",
    "3. What is a Process\n",
    "2. What is MultiProcessing vs MultiTasking vs MultiThreading \n",
    "3. Why everything is a file in linux?\n",
    "4. What is a system call?\n",
    "5. Why do we get segmentation fault error?\n",
    "6. What happens in the background when you type www.google.com in the browser"
   ]
  },
  {
   "cell_type": "markdown",
   "id": "94c6c490",
   "metadata": {},
   "source": [
    "## How does a computer boot?\n",
    "\n",
    "Lets look at how Linux Operating System boots\n",
    "```python\n",
    "#TODO\n",
    "```"
   ]
  },
  {
   "cell_type": "markdown",
   "id": "0395cb69",
   "metadata": {},
   "source": [
    "## Journey from Source code to Object code"
   ]
  },
  {
   "cell_type": "markdown",
   "id": "40f57c8a",
   "metadata": {},
   "source": [
    "Human can read and write <font color='green'>Source code</font>\n",
    "\n",
    "Computer only understands <font color='green'>Binary instructions</font>\n",
    "\n",
    "The journey from source code to an object/machine/binary code happens through one of/or a combination of 2 following mechanisms.\n",
    "\n",
    "    1. Interpreter\n",
    "    2. Compiler\n",
    "\n",
    "### Interpreter\n",
    "\n",
    "Interpreter directly executes the source code.\n",
    "\n",
    "It generally uses one of/ or a combination of mechanisms to execute the source code\n",
    "\n",
    "1. <font color=\"royalblue\">Parse</font> the source code using a parser & execute it\n",
    "\n",
    "2. Convert the source code into an <font color=\"royalblue\">intermediate byte code</font> & execute it\n",
    "\n",
    "3. Execute a <font color=\"royalblue\">precompiled code</font> (which is compiled using a compiler that's present in the  interpretor) \n",
    "\n",
    "Python is both an *interpreted* and *compiled* language.\n",
    "\n",
    "<font color=\"royalblue\">Python interptor</font> is implemented in  the following way, expressed in <font color=\"royalblue\">pseudo code</font>."
   ]
  },
  {
   "cell_type": "markdown",
   "id": "b362435c",
   "metadata": {
    "code_folding": []
   },
   "source": [
    "```python\n",
    "def python_interpretor(source_code):\n",
    "    '''\n",
    "          tokens: list of [{Key:<optional_value>}, ...] pairs\n",
    "             ast: abstract syntax tree\n",
    "       byte code: intermediate byte code\n",
    "     interpretor: converts to machine code\n",
    "    machine code: code that emulated CPU executes\n",
    "    '''\n",
    "    \n",
    "    tokens = lexer(source_code)\n",
    "    ast = parser(tokens)\n",
    "    byte_code = compiler(ast)\n",
    "    machine_code = interpretor(byte_code) \n",
    "    python_vm.execute(machine_code)       \n",
    "```"
   ]
  },
  {
   "cell_type": "markdown",
   "id": "498b5490",
   "metadata": {},
   "source": [
    "#### Lexer\n",
    "\n",
    "Lexer breaks each line of code (text) into <font color=\"royalblue\">tokens</font>. Tokens are a list of {key: value} paris with key as Type & an optional value.\n",
    "\n",
    "```python\n",
    "tokens = [{Type: <optional_value>},..]\n",
    "```\n",
    "Lets implement a basic <font color=\"royalblue\">Lexer</font> to support add, mult, div, sub of integers or floats.\n",
    "\n",
    "<font color=\"royalblue\">Assumptions</font>\n",
    "\n",
    "    1. This is pretty basic implementation (for demonstration purpose) of a lexer.\n",
    "    2. The operator needs to have a space around it. Example: 2+3 is NOT supported\n",
    "    3. Paranthesis is NOT supported\n",
    "    4. Floating number should have only ONE dot.\n",
    "    5. Support for ONLY Integers or Floats or one of [+, -, *, /].\n",
    "\n",
    "For these 2 lines of code\n",
    "\n",
    "```python\n",
    "50 + 25 - 50\n",
    " 5 * 5\n",
    "```\n",
    " \n",
    "the output from the lexer will be a list of follwoing tokens\n",
    " \n",
    "```python\n",
    "[{\"INT\": 50}, {\"PLUS\": None}, {\"INT\": 25}, {\"MINUS\": None}, {\"INT\": 50},\n",
    " {\"INT\": 5}, {\"MUL\": None},{\"INT\": 5}]\n",
    "```"
   ]
  },
  {
   "cell_type": "code",
   "execution_count": 14,
   "id": "d9165862",
   "metadata": {
    "code_folding": [
     10,
     13,
     16,
     18,
     20,
     22
    ],
    "scrolled": true
   },
   "outputs": [
    {
     "name": "stdout",
     "output_type": "stream",
     "text": [
      "[{'FLOAT': 5.4}, {'PLUS': None}, {'INT': 4}, {'INT': 3}, {'PLUS': None}, {'INT': 2}, {'INT': 5}, {'MUL': None}, {'INT': 5}]\n"
     ]
    }
   ],
   "source": [
    "def lexer(source_code):\n",
    "    '''\n",
    "    Converts the source code into tokens\n",
    "    \n",
    "    Returns:\n",
    "        :tokens(list): list of tokens, each token is a dict of key:optional_value\n",
    "    '''\n",
    "    tokens = []\n",
    "    for word in source_code.split():\n",
    "        if '.' in word:\n",
    "            try:\n",
    "                word = float(word)\n",
    "                tokens.append({'FLOAT': word})\n",
    "            except ValueError:\n",
    "                mesg = \"unexpected word {}\".format(word)\n",
    "                raise SyntaxError(mesg) from None\n",
    "        elif word == '+':\n",
    "            tokens.append({'PLUS': None})\n",
    "        elif word == '-':\n",
    "            tokens.append({'MINUS': None})\n",
    "        elif word == '*':\n",
    "            tokens.append({'MUL': None})\n",
    "        elif word == '/':\n",
    "            tokens.append({'DIV': None})\n",
    "        else:\n",
    "            try:\n",
    "                word = int(word)\n",
    "                tokens.append({\"INT\": word})\n",
    "            except ValueError:\n",
    "                mesg = \"unexpected word {}\".format(word)\n",
    "                raise SyntaxError(mesg) from None\n",
    "    return tokens\n",
    "\n",
    "source_code = '''\n",
    "    5.4 + 4\n",
    "    3 + 2\n",
    "    5 * 5'''\n",
    "print(lexer(source_code))"
   ]
  },
  {
   "cell_type": "markdown",
   "id": "fbf15d51",
   "metadata": {},
   "source": [
    "#### Parser\n",
    "The job of the parser is to create an <font color=\"royalblue\">abstract syntax tree (ast)</font> from the tokens. AST is a simplified syntactic tree representation of a source code. Each node of the tree stands for an statement occurring in the code.\n",
    "\n",
    "The syntax tree for the code \n",
    "\n",
    "```python\n",
    "2 + 3 * 5\n",
    "```\n",
    "\n",
    "will look like this\n",
    "\n",
    "<img src=\"img/ast.png\" width=\"600\" height=400>\n",
    "\n",
    "Python has an <font color=\"royalblue\">ast</font> library that helps us decode the syntax tree from source code. For example, lets try to get the ast tree for the <font color=\"royalblue\">expression()</font> function"
   ]
  },
  {
   "cell_type": "markdown",
   "id": "d464e0c5",
   "metadata": {
    "code_folding": [],
    "raw_mimetype": "text/x-python"
   },
   "source": [
    "```python\n",
    "import ast, pprint, inspect\n",
    "\n",
    "def expression():\n",
    "    return 2 + 3 * 5\n",
    "\n",
    "pprint.pprint(ast.dump(ast.parse(\n",
    "    inspect.getsource(expression) ) ) )\n",
    "```"
   ]
  },
  {
   "cell_type": "markdown",
   "id": "ac636a0d",
   "metadata": {},
   "source": [
    "The output of the ast tree is shown below. The syntaxt tree is generated with <font color=\"royalblue\">BinOp()</font> and <font color=\"royalblue\">Num()</font> nodes in the <font color=\"royalblue\">Return()</font> function of the <font color=\"royalblue\">body</font> paramerter."
   ]
  },
  {
   "cell_type": "markdown",
   "id": "de2aa976",
   "metadata": {},
   "source": [
    "\n",
    "```python\n",
    "Module(body=[\n",
    "    FunctionDef(name='expression',\n",
    "                args=arguments(\n",
    "                    args=[], vararg=None,\n",
    "                    kwonlyargs=[], kw_defaults=[],\n",
    "                    kwarg=None, defaults=[]),\n",
    "    body=[\n",
    "        Return(value=BinOp(\n",
    "            left=Num(n=2), op=Add(), right=BinOp(\n",
    "                left=Num(n=3), op=Mult(), right=Num(n=5) )) ) ],\n",
    "    decorator_list=[],\n",
    "    returns=None) ] )\n",
    "```"
   ]
  },
  {
   "cell_type": "markdown",
   "id": "b0102dcf",
   "metadata": {},
   "source": [
    "#### Compiler (in python interpretor)\n",
    "\n",
    "Python compiler takes the <font color=\"royalblue\">abstact syntax tree (ast)</font> generated by the <font color=\"royalblue\">parser</font> to convert to a <font color=\"royalblue\">bytecode</font>. The bytecode generated for our <font color=\"royalblue\">expression()</font> function can be viewed using the <font color=\"royalblue\">\\_\\_code\\_\\_</font> object in the function.\n",
    "\n",
    "```python\n",
    "def expression():\n",
    "    return 2 + 3 * 5\n",
    "\n",
    "#co_consts contains all the constants used in the function\n",
    "print(expression.__code__.co_consts)\n",
    "\n",
    "#co_varnames contains all the variables used in the function\n",
    "print(expression.__code__.co_varnames)\n",
    "\n",
    "#co_code contains the bytecode\n",
    "print(expression.__code__.co_code)\n",
    "```\n",
    "The output shows the <font color=\"royalblue\">constants, variables & bytecode</font> of the fuction.\n",
    "\n",
    "```python\n",
    "(None, 17)     # None added as default if func() doesn't explicitly return\n",
    "()             # Since no variables is used in the function its empty\n",
    "b'd\\x01S\\x00'  # bytecode\n",
    "```\n",
    "\n",
    "The bytecode above can be disassembled to assembly instructions using <font color=\"royalblue\">dis</font> library module. Note that this <font color=\"royalblue\">bytecode</font> is <font color='red'>CPU architecure-independent</font>, meaning, it can run on any CPU architectures like X86, PPC, MIPS, ARM using the python virtual machine, as the virtual machine acts as an emulator. (More on this will be covered under Virtualization)\n",
    "\n",
    "The disassembled code is below\n",
    "\n",
    "```python\n",
    "import dis\n",
    "\n",
    "def expression():\n",
    "    MUL_BY_5 = 5\n",
    "    return 2 + 3 * MUL_BY_FLY\n",
    "\n",
    "dis.dis(expression.__code__.co_code)\n",
    "```\n",
    "Assembly insructions\n",
    "\n",
    "```python\n",
    "  0 LOAD_CONST               1 (1)\n",
    "  2 STORE_FAST               0 (0)\n",
    "  4 LOAD_CONST               2 (2)\n",
    "  6 LOAD_CONST               3 (3)\n",
    "  8 LOAD_GLOBAL              0 (0)\n",
    " 10 BINARY_MULTIPLY\n",
    " 12 BINARY_ADD\n",
    " 14 RETURN_VALUE\n",
    "```\n",
    "\n",
    "The <font color='green'>.\\_\\_pyc\\_\\_</font> file that gets auto generated on python code execution is the precompiled byte code.\n",
    "\n",
    "We have seen the working of a python interpretor. Lets look into <font color='royalblue'>compiler</font>"
   ]
  },
  {
   "cell_type": "markdown",
   "id": "3257085f",
   "metadata": {},
   "source": [
    "### Compiler\n",
    "\n",
    "Compiler converts the source code into an object/machine/binary code. The object code is then executed/invoked using a [shell](https://en.wikipedia.org/wiki/Shell_(computing)). In Linux, the preferred shell, is mostly a CLI. \n",
    "\n",
    "It generally uses the following mechanisms to convert the source code to an object code\n",
    "\n",
    "1. <font color=\"royalblue\">Preprocessor</font> process the source code to include all the header files, remove all code comments and expand the macros.\n",
    "\n",
    "2. Preproccesed code is then converted to <font color=\"royalblue\">assembly code</font>, which is <font color='red'>CPU architecure-dependent</font> by the <font color='royalblue'>compiler</font>\n",
    "\n",
    "3. Assembly code is then converted to <font color=\"royalblue\">object code</font> by the <font color=\"royalblue\">assembler</font>.\n",
    "\n",
    "4. Object code is then linked with shared libraries (like printf()) used in the code by the <font color=\"royalblue\">linker</font>.\n",
    "\n",
    "\n",
    "A <font color='royalblue'>pseudo code</font> in python to show the implemention of a gcc compiler\n",
    "\n",
    "```python\n",
    "def gcc_compiler(source_code):\n",
    "    pre_proc_code = preprocessor(source_code)\n",
    "    asm_code = compiler(pre_proc_code)\n",
    "    reloc_obj_code = assembler(asm_code)   # relocatable object code\n",
    "    exec_obj_code = linker(reloc_obj_code) # executable object code\n",
    "```\n",
    "\n",
    "Lets try to convert the following <font color=\"royalblue\">hello_world.c</font> into an object code.\n",
    "\n",
    "```c\n",
    "#include <stdio.h>\n",
    "    \n",
    "int main(){\n",
    "    printf(\"Hello World!\");\n",
    "    return 0;\n",
    "}\n",
    "```\n",
    "\n",
    "#### Preprocessor\n",
    "\n",
    "gcc command to convert the source code to preprocessed code.\n",
    "\n",
    "```gcc -E -o src/hello_world.i src/hello_world.c```\n",
    "\n",
    "The preprocessed code can be seen using <font color=\"royalblue\">cat</font> command in shell.\n",
    "\n",
    "<img src=\"img/prep_code.png\" width=\"600\" height=\"600\">\n",
    "\n",
    "#### Compiler\n",
    "\n",
    "gcc command to convert the preprocessed code to assembly code.\n",
    "\n",
    "```gcc -S -o src/hello_world.s src/hello_world.i```\n",
    "\n",
    "The assembly code can be seen using <font color=\"royalblue\">cat</font> command in shell.\n",
    "\n",
    "<img src=\"img/asm.png\" width=\"600\" height=\"200\">\n",
    "\n",
    "#### Assembler\n",
    "\n",
    "gcc command to convert the assembly code to relocatable object code.\n",
    "\n",
    "```gcc -c -o src/hello_world.o src/hello_world.s```\n",
    "\n",
    "The relocatable object code can be seen using the <font color=\"royalblue\">objdump</font> command in shell.\n",
    "\n",
    "<img src=\"img/objdump_headers.png\" width=\"600\" height=\"600\">\n",
    "\n",
    "#### Linker\n",
    "\n",
    "gcc command to convert the relocatable object code to executable code \n",
    "\n",
    "```gcc -o src/hello_world src/hello_world.o```\n",
    "\n",
    "The executable object code can be seen using the <font color=\"royalblue\">objdump</font> command in shell\n",
    "\n",
    "<img src=\"img/objdump_full.png\" width=\"600\" height=\"600\">\n",
    "\n",
    "The <font color=\"red\">key takeaway</font> is, the objdump shows 2 vital information\n",
    "\n",
    " 1. The complete process address space (map of virtual memory, more on this later) of <font color=\"royalblue\">all sections</font>. \n",
    " \n",
    " 2. Each line shows the <font color=\"royalblue\">CPU instruction</font> to be executed and the <font color=\"royalblue\">virtual memory address</font> of the instruction.\n",
    "\n",
    "\n",
    "The journey from source code to object code is covered now for both compiled (c) & a hybrid (python) language\n",
    "\n",
    "The journey from object code to process on a linux system will be covered in later section"
   ]
  },
  {
   "cell_type": "markdown",
   "id": "c9d685d6",
   "metadata": {},
   "source": [
    "### Language Examples\n",
    "\n",
    ">**Compiled**    : C, C++\n",
    "\n",
    ">**Interpreted** : PHP, Javascript\n",
    "    \n",
    ">**Hybrid**      : Java, Python\n",
    "\n",
    "### Excercises\n",
    "\n",
    " 1. The program below has 2 functions which are identical. slow_hz_to_msec() takes 1.42 msec to execute where as fast_hz_to_msec() takes 0.73 msec. Explain why?"
   ]
  },
  {
   "cell_type": "code",
   "execution_count": 24,
   "id": "300638b1",
   "metadata": {
    "code_folding": [
     9
    ]
   },
   "outputs": [
    {
     "name": "stdout",
     "output_type": "stream",
     "text": [
      "Time(msec) to execute slow_hz_to_msec: 1.4210910012479872\n",
      "Time(msec) to exexute fast_hz_to_msec: 0.7360519994108472\n"
     ]
    }
   ],
   "source": [
    "def slow_hz_to_msec():\n",
    "    '''converts 500Hz to milliseonds'''\n",
    "    HZ = 500\n",
    "    return 1/HZ * 1000\n",
    "\n",
    "def fast_hz_to_msec():\n",
    "    '''converts 500Hz to milliseonds'''\n",
    "    return (1/500) * 1000\n",
    "\n",
    "def compare_functions():\n",
    "    import timeit\n",
    "    \n",
    "    setup_code1 = 'from __main__ import slow_hz_to_msec'\n",
    "    stmt_code1 = 'slow_hz_to_msec()'\n",
    "    setup_code2 = 'from __main__ import fast_hz_to_msec'\n",
    "    stmt_code2 = 'fast_hz_to_msec()'\n",
    "    iterations = 10000\n",
    "\n",
    "    times1 = timeit.timeit(stmt=stmt_code1, setup=setup_code1, number=iterations)\n",
    "    times2 = timeit.timeit(stmt=stmt_code2, setup=setup_code2, number=iterations)\n",
    " \n",
    "    print('Time(msec) to execute slow_hz_to_msec: {}'.format(times1*1000))\n",
    "    print('Time(msec) to exexute fast_hz_to_msec: {}'.format(times2*1000))\n",
    "\n",
    "compare_functions()\n",
    "    "
   ]
  },
  {
   "cell_type": "markdown",
   "id": "f695ea75",
   "metadata": {},
   "source": [
    " ```python\n",
    "#JustForFun exercise\n",
    "```\n",
    "2. Develop a <font color=\"royalblue\">parser</font> for the <font color=\"royalblue\">lexer</font> implementation in section 1.2.1.1\n"
   ]
  }
 ],
 "metadata": {
  "celltoolbar": "Raw Cell Format",
  "kernelspec": {
   "display_name": "Python 3",
   "language": "python",
   "name": "python3"
  },
  "language_info": {
   "codemirror_mode": {
    "name": "ipython",
    "version": 3
   },
   "file_extension": ".py",
   "mimetype": "text/x-python",
   "name": "python",
   "nbconvert_exporter": "python",
   "pygments_lexer": "ipython3",
   "version": "3.7.6"
  },
  "toc": {
   "base_numbering": 1,
   "nav_menu": {},
   "number_sections": true,
   "sideBar": true,
   "skip_h1_title": false,
   "title_cell": "Table of Contents",
   "title_sidebar": "Contents",
   "toc_cell": true,
   "toc_position": {
    "height": "calc(100% - 180px)",
    "left": "10px",
    "top": "150px",
    "width": "313.969px"
   },
   "toc_section_display": true,
   "toc_window_display": true
  }
 },
 "nbformat": 4,
 "nbformat_minor": 5
}
