{
 "cells": [
  {
   "cell_type": "markdown",
   "id": "fd32344b",
   "metadata": {
    "toc": true
   },
   "source": [
    "<h1>Table of Contents<span class=\"tocSkip\"></span></h1>\n",
    "<div class=\"toc\"><ul class=\"toc-item\"><li><span><a href=\"#OS-Basics\" data-toc-modified-id=\"OS-Basics-1\"><span class=\"toc-item-num\">1&nbsp;&nbsp;</span>OS Basics</a></span></li></ul></div>"
   ]
  },
  {
   "cell_type": "markdown",
   "id": "9c944250",
   "metadata": {},
   "source": [
    "# OS Basics\n"
   ]
  },
  {
   "cell_type": "markdown",
   "id": "905881e8",
   "metadata": {},
   "source": [
    "**Teasers**\n",
    "\n",
    ">1. How does a computer boot?\n",
    ">3. What is a Process\n",
    "2. What is MultiProcessing vs MultiTasking vs MultiThreading \n",
    "3. Why everything is a file in linux?\n",
    "4. What is a system call?\n",
    "5. Why do we get segmentation fault error?\n",
    "6. What happens in the background when you type www.google.com in the browser\n"
   ]
  },
  {
   "cell_type": "code",
   "execution_count": null,
   "id": "5c591503",
   "metadata": {},
   "outputs": [],
   "source": []
  },
  {
   "cell_type": "code",
   "execution_count": 5,
   "id": "e1681f60",
   "metadata": {},
   "outputs": [],
   "source": [
    "def get_penny():\n",
    "    pass\n"
   ]
  },
  {
   "cell_type": "code",
   "execution_count": null,
   "id": "ddc6e488",
   "metadata": {},
   "outputs": [],
   "source": []
  }
 ],
 "metadata": {
  "celltoolbar": "Raw Cell Format",
  "kernelspec": {
   "display_name": "Python 3",
   "language": "python",
   "name": "python3"
  },
  "language_info": {
   "codemirror_mode": {
    "name": "ipython",
    "version": 3
   },
   "file_extension": ".py",
   "mimetype": "text/x-python",
   "name": "python",
   "nbconvert_exporter": "python",
   "pygments_lexer": "ipython3",
   "version": "3.7.6"
  },
  "toc": {
   "base_numbering": 1,
   "nav_menu": {},
   "number_sections": true,
   "sideBar": true,
   "skip_h1_title": false,
   "title_cell": "Table of Contents",
   "title_sidebar": "Contents",
   "toc_cell": true,
   "toc_position": {
    "height": "calc(100% - 180px)",
    "left": "10px",
    "top": "150px",
    "width": "320px"
   },
   "toc_section_display": true,
   "toc_window_display": true
  }
 },
 "nbformat": 4,
 "nbformat_minor": 5
}
